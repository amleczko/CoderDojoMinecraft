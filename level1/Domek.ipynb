{
 "cells": [
  {
   "cell_type": "markdown",
   "metadata": {},
   "source": [
    "# Połączenie z serwerem Minecraft'a"
   ]
  },
  {
   "cell_type": "code",
   "execution_count": 1,
   "metadata": {
    "collapsed": false
   },
   "outputs": [],
   "source": [
    "# -*- coding: utf8 -*-\n",
    "import mcpi.minecraft as minecraft\n",
    "import mcpi.block as block\n",
    "\n",
    "mc = minecraft.Minecraft.create()\n",
    "x, y, z = mc.player.getPos() # moja pozycja\n",
    "mc.postToChat(\"Moja pozycja: %s\" % [x,y,z])\n"
   ]
  },
  {
   "cell_type": "markdown",
   "metadata": {},
   "source": [
    "# Trawnik"
   ]
  },
  {
   "cell_type": "code",
   "execution_count": 2,
   "metadata": {
    "collapsed": true
   },
   "outputs": [],
   "source": [
    "# zacznijmy budować w dobrym miejscu\n",
    "x = x + 5\n",
    "\n",
    "# trawnik o boku 6x6x0\n",
    "mc.setBlocks(x, -1, z, x+5, -1, z+5, block.GRASS.id)\n"
   ]
  },
  {
   "cell_type": "markdown",
   "metadata": {},
   "source": [
    "# Ściany"
   ]
  },
  {
   "cell_type": "code",
   "execution_count": 3,
   "metadata": {
    "collapsed": true
   },
   "outputs": [],
   "source": [
    "# dom o wymiarach 4x4x3\n",
    "mc.setBlocks(1+x, 0, 1+z, 4+x, 2, 4+z, block.STONE.id)"
   ]
  },
  {
   "cell_type": "markdown",
   "metadata": {},
   "source": [
    "# Okna"
   ]
  },
  {
   "cell_type": "code",
   "execution_count": 4,
   "metadata": {
    "collapsed": true
   },
   "outputs": [],
   "source": [
    "# dwie pary okien o wymiarach 4x2x2\n",
    "mc.setBlocks(1+x, 1, 2+z, 4+x, 2, 3+z, block.GLASS.id)\n",
    "mc.setBlocks(2+x, 1, 1+z, 3+x, 2, 4+z, block.GLASS.id)"
   ]
  },
  {
   "cell_type": "markdown",
   "metadata": {},
   "source": [
    "# Puste wnętrze"
   ]
  },
  {
   "cell_type": "code",
   "execution_count": 5,
   "metadata": {
    "collapsed": true
   },
   "outputs": [],
   "source": [
    "# powietrze w środku 2x2x3\n",
    "mc.setBlocks(2+x, 0, 2+z, 3+x, 2, 3+z, block.AIR.id)"
   ]
  },
  {
   "cell_type": "markdown",
   "metadata": {},
   "source": [
    "# Drzwi"
   ]
  },
  {
   "cell_type": "code",
   "execution_count": 6,
   "metadata": {
    "collapsed": true
   },
   "outputs": [],
   "source": [
    "mc.setBlocks(1+x, 0, 2+z, 1+x, 2, 2+z, block.GLASS.id) #szklane"
   ]
  },
  {
   "cell_type": "markdown",
   "metadata": {},
   "source": [
    "# Sufit"
   ]
  },
  {
   "cell_type": "code",
   "execution_count": 7,
   "metadata": {
    "collapsed": true
   },
   "outputs": [],
   "source": [
    "# sufit z kamienia o wymiarach 4x4x1\n",
    "mc.setBlocks(1+x, 3, 1+z, 4+x, 3, 4+z, block.BEDROCK.id)"
   ]
  },
  {
   "cell_type": "markdown",
   "metadata": {},
   "source": [
    "# Funkcja domek()"
   ]
  },
  {
   "cell_type": "code",
   "execution_count": 9,
   "metadata": {
    "collapsed": true
   },
   "outputs": [],
   "source": [
    "def domek(x, z):\n",
    "    mc.setBlocks(x-1, -1, z-1, x+4, -1, z+4, block.GRASS.id)   #trawnik/podłoga\n",
    "    mc.setBlocks(0+x,  0, 0+z, 3+x,  2, 3+z, block.STONE.id)   #sciany\n",
    "    mc.setBlocks(0+x,  1, 1+z, 3+x,  2, 2+z, block.GLASS.id)   #okna1\n",
    "    mc.setBlocks(1+x,  1, 0+z, 2+x,  2, 3+z, block.GLASS.id)   #okna2\n",
    "    mc.setBlocks(1+x,  0, 1+z, 2+x,  2, 2+z, block.AIR.id)     #puste wnetrze\n",
    "    mc.setBlocks(0+x,  0, 1+z, 0+x,  2, 1+z, block.GLASS.id)   #drzwi\n",
    "    mc.setBlocks(0+x,  3, 0+z, 3+x,  3, 3+z, block.BEDROCK.id) #sufit\n",
    "\n",
    "x, y, z = mc.player.getPos() # moja pozycja\n",
    "mc.postToChat(\"Moja pozycja: %s\" % [x,y,z])\n",
    "x = x + 5 # przesuńmy budowę\n",
    "domek(x,z)"
   ]
  },
  {
   "cell_type": "markdown",
   "metadata": {},
   "source": [
    "# Domek piętrowy"
   ]
  },
  {
   "cell_type": "code",
   "execution_count": 13,
   "metadata": {
    "collapsed": true
   },
   "outputs": [],
   "source": [
    "def rysujPietro(x, y, z):\n",
    "    mc.setBlocks(0+x, 0+y, 0+z, 3+x, 2+y, 3+z, block.STONE.id)   #sciany\n",
    "    mc.setBlocks(0+x, 1+y, 1+z, 3+x, 2+y, 2+z, block.GLASS.id)   #okna1\n",
    "    mc.setBlocks(1+x, 1+y, 0+z, 2+x, 2+y, 3+z, block.GLASS.id)   #okna2\n",
    "    mc.setBlocks(1+x, 0+y, 1+z, 2+x, 2+y, 2+z, block.AIR.id)     #puste wnetrze\n",
    "    mc.setBlocks(0+x, 0+y, 1+z, 0+x, 2+y, 1+z, block.GLASS.id)   #drzwi\n",
    "    mc.setBlocks(0+x, 3+y, 0+z, 3+x, 3+y, 3+z, block.BEDROCK.id) #sufit\n",
    "    \n",
    "def domekPietrowy(x, z, ilosc_pieter):\n",
    "    mc.setBlocks(x-1, -1, z-1, x+4, -1, z+4, block.GRASS.id)  #trawnik/podłoga\n",
    "    for i in range (0, ilosc_pieter*4, 4):\n",
    "        rysujPietro(x, i, z)\n",
    "        \n",
    "x, y, z = mc.player.getPos() # moja pozycja\n",
    "mc.postToChat(\"Moja pozycja: %s\" % [x,y,z])\n",
    "x = x + 5 # przesuńmy budowę\n",
    "domekPietrowy(x,z, 300)"
   ]
  },
  {
   "cell_type": "code",
   "execution_count": null,
   "metadata": {
    "collapsed": true
   },
   "outputs": [],
   "source": []
  }
 ],
 "metadata": {
  "kernelspec": {
   "display_name": "Python 2",
   "language": "python",
   "name": "python2"
  },
  "language_info": {
   "codemirror_mode": {
    "name": "ipython",
    "version": 2
   },
   "file_extension": ".py",
   "mimetype": "text/x-python",
   "name": "python",
   "nbconvert_exporter": "python",
   "pygments_lexer": "ipython2",
   "version": "2.7.9"
  }
 },
 "nbformat": 4,
 "nbformat_minor": 0
}
