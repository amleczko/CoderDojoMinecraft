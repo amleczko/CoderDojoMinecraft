{
 "cells": [
  {
   "cell_type": "code",
   "execution_count": null,
   "metadata": {
    "collapsed": false
   },
   "outputs": [],
   "source": [
    "#!/usr/bin/python\n",
    "import sys\n",
    "sys.path.append( \"~/Desktop/CoderDojo\")\n",
    "import mcpi.minecraft as minecraft\n",
    "import mcpi.block as block\n",
    "\n",
    "# Connect to the Minecraft server\n",
    "world  =  minecraft.Minecraft.create()\n",
    "\n",
    "# Get the player's current position and store the coordinates\n",
    "[x,y,z] =  world.player.getPos()\n",
    "\n",
    "# Set some variables to customize your tower\n",
    "width     =  10\n",
    "height    =  10 \n",
    "material  =  block.SANDSTONE\n",
    "\n",
    "# Execute the loop, building from the bottom up\n",
    "for column in range( 0, width ):\n",
    "\tfor level in range( 0, height ):\n",
    "\t\tworld.setBlock( x+column, level, z, material )\n",
    "\n",
    "# Put the player on top of the tower\n",
    "world.player.setPos( x, height, z )"
   ]
  }
 ],
 "metadata": {},
 "nbformat": 4,
 "nbformat_minor": 0
}