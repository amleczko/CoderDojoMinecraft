{
 "cells": [
  {
   "cell_type": "code",
   "execution_count": null,
   "metadata": {
    "collapsed": false
   },
   "outputs": [],
   "source": [
    "import mcpi.minecraft as minecraft\n",
    "import mcpi.block as block\n",
    "\n",
    "world = minecraft.Minecraft.create()\n",
    "\n",
    "[x,y,z] = world.player.getPos()\n",
    "world.postToChat( \"Position is: %d %d %d\" % (x,y,z) )\n",
    "\n",
    "world.player.setPos( 0, 64, 0 )"
   ]
  }
 ],
 "metadata": {},
 "nbformat": 4,
 "nbformat_minor": 0
}