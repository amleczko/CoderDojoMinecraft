{
 "cells": [
  {
   "cell_type": "code",
   "execution_count": null,
   "metadata": {
    "collapsed": false
   },
   "outputs": [],
   "source": [
    "#!/usr/bin/python\n",
    "import sys\n",
    "sys.path.append( \"~/Desktop/CoderDojo\")\n",
    "import mcpi.minecraft as minecraft\n",
    "import mcpi.block as block\n",
    "\n",
    "# Connect to the Minecraft server\n",
    "world  =  minecraft.Minecraft.create()\n",
    "# Get Steve's current position\n",
    "[x0,y0,z0] = world.player.getPos()\n",
    "\n",
    "# Set the radius of the sphere\n",
    "r=20\n",
    "material = block.WOOD\n",
    "\n",
    "# Put the bottom edge of the sphere 8 blocks above Steve's head\n",
    "y0=y0+r+8\n",
    "\n",
    "for x in range(-r,r):\n",
    "  for y in range(-r,r):\n",
    "    for z in range(-r,r):\n",
    "\t  # If we were making a cube, we'd put a block here\n",
    "      candidate_location = x**2 + y**2 + z**2\n",
    "\t  # But we're not, so if this falls outside of the sphere or wholly inside of it, skip this iteration\n",
    "      if candidate_location < r**2 and candidate_location > (r-1)**2:\n",
    "\t\t# This location qualifies, so put a block here\n",
    "        world.setBlock(x0+x, y0+y, z0+z, material);\n",
    "\n",
    "print \"Hollow sphere built successfully! Return to the game and look above you.\"\n",
    "\n",
    "# Things to try:\n",
    "# How could we make this a solid sphere?\n",
    "# How could we nest a smaller sphere inside a larger one?\n",
    "# How could we nest a hollow sphere inside a solid block? (How about an AIR sphere inside a WOOD block?)\n",
    "# How could we make it a half sphere?\n",
    "# How could we make it so the sphere is separated into 2 halves?\n",
    "# How could we make the border into ribbons instead of a solid wall?"
   ]
  }
 ],
 "metadata": {},
 "nbformat": 4,
 "nbformat_minor": 0
}