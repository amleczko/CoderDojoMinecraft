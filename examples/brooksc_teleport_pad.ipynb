{
 "cells": [
  {
   "cell_type": "code",
   "execution_count": null,
   "metadata": {
    "collapsed": false
   },
   "outputs": [],
   "source": [
    "#!/usr/bin/env python\n",
    "\n",
    "# as shared on mcpipy.com\n",
    "\n",
    "import mcpi.minecraft as minecraft\n",
    "import mcpi.block as block\n",
    "import time\n",
    "\n",
    "\n",
    "# If you are running this script with the bukkit mod, then use a diamond block as the magic center block for teleporting\n",
    "# comment/uncomment below as appropriate\n",
    "magic_block = block.DIAMOND_BLOCK # for bukkit server\n",
    "#magic_block = block.NETHER_REACTOR_CORE # for raspberry pi\n",
    "\n",
    "if __name__ == \"__main__\": # The script\n",
    "    mc = minecraft.Minecraft.create()\n",
    "    loc = mc.player.getPos()\n",
    "    x = loc.x\n",
    "    y = loc.y - 1\n",
    "    z = loc.z\n",
    "    for z_z in range (int(z-1), int(z+2)):\n",
    "        for x_x in range(int(x-1), int(x+2)):\n",
    "            mc.setBlock(x_x,y,z_z, block.COBBLESTONE)\n",
    "            mc.setBlock(x_x,y+1,z_z, block.AIR)\n",
    "\n",
    "mc.setBlock(x,y,z, magic_block)"
   ]
  }
 ],
 "metadata": {},
 "nbformat": 4,
 "nbformat_minor": 0
}