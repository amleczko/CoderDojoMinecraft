{
 "cells": [
  {
   "cell_type": "code",
   "execution_count": null,
   "metadata": {
    "collapsed": false
   },
   "outputs": [],
   "source": [
    "#!/usr/bin/env python\n",
    "\n",
    "#import the minecraft.py module from the minecraft directory\n",
    "import mcpi.minecraft as minecraft\n",
    "#import minecraft block module\n",
    "import mcpi.block as block\n",
    "#import time, so delays can be used\n",
    "import time\n",
    "\n",
    "if __name__ == \"__main__\":\n",
    "    mc = minecraft.Minecraft.create()\n",
    "#    mc.postToChat(\"Flattening surface\")\n",
    "#    mc.setBlocks(-128,0,-128,128,64,128,0)\n",
    "#    mc.setBlocks(-128,0,-128,128,-64,128,block.SANDSTONE.id)\n",
    "#    mc.postToChat(\"Putting a diamong block at 0,0,0\")\n",
    "#    mc.setBlock(0,0,0,block.DIAMOND_BLOCK.id)\n",
    "\n",
    "    while True:\n",
    "        #Find out your players position\n",
    "        playerPos = mc.player.getPos()\n",
    "        mc.postToChat(\"Find your position - its x=%s y=%s z=%s\" % (int(playerPos.x), int(playerPos.y), int(playerPos.z)))\n",
    "#        mc.postToChat(\"Find your position - its x=%.2f y=%.2f z=%.2f\" % (playerPos.x, playerPos.y, playerPos.z))\n",
    "        time.sleep(1)"
   ]
  }
 ],
 "metadata": {},
 "nbformat": 4,
 "nbformat_minor": 0
}