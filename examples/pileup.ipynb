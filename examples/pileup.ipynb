{
 "cells": [
  {
   "cell_type": "code",
   "execution_count": null,
   "metadata": {
    "collapsed": false
   },
   "outputs": [],
   "source": [
    "#!/usr/bin/python\n",
    "# Written by Eric Johnson for CoderDojo Twin Cities - www.coderdojotc.org\n",
    "# Creates a rain of blocks around the player's current position\n",
    "import mcpi.minecraft as minecraft\n",
    "import mcpi.block as block\n",
    "import time\n",
    "import random\n",
    "\n",
    "# Connect to the Minecraft server\n",
    "world = minecraft.Minecraft.create()\n",
    "\n",
    "print \"THIS SCRIPT WILL RUN FOREVER IF YOU LET IT\"\n",
    "print \"TYPE CTRL+C TO EXIT\"\n",
    "\n",
    "material = block.ICE  # we like sand because it is subject to gravity -- create it up high, and it will fall\n",
    "while True:\n",
    "    # Get the player's current position and store the coordinates\n",
    "    [x, y, z] = world.player.getPos()\n",
    "    dx = random.randint(-10, 10)  # somewhere nearby\n",
    "    dz = random.randint(-10, 10)  # somewhere nearby\n",
    "    dy = random.randint(5, 15)  # somewhere above!\n",
    "    world.setBlock(x+dx, y+dy, z+dz, material)\n",
    "    time.sleep(0.5)"
   ]
  }
 ],
 "metadata": {},
 "nbformat": 4,
 "nbformat_minor": 0
}