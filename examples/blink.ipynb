{
 "cells": [
  {
   "cell_type": "markdown",
   "metadata": {},
   "source": [
    "#Note: \n",
    "\n",
    "THIS SCRIPT WILL RUN FOREVER IF YOU LET IT.\n",
    "\n",
    "Use the Kernel-->Interupt menu option to stop it."
   ]
  },
  {
   "cell_type": "code",
   "execution_count": null,
   "metadata": {
    "collapsed": true
   },
   "outputs": [],
   "source": [
    "#!/usr/bin/python\n",
    "# Written by Eric Johnson for CoderDojo Twin Cities - www.coderdojotc.org\n",
    "# Creates a block, near the player's initial position, that changes material each second\n",
    "import mcpi.minecraft as minecraft\n",
    "import mcpi.block as block\n",
    "import time\n",
    "\n",
    "# Connect to the Minecraft server\n",
    "world = minecraft.Minecraft.create()\n",
    "\n",
    "# Get the player's current position and store the coordinates\n",
    "[x, y, z] = world.player.getPos()\n",
    "\n",
    "materials = [block.GRASS, block.WOOL, block.BRICK_BLOCK]\n",
    "n = 0\n",
    "while True:\n",
    "    n = (n + 1) % len(materials)\n",
    "    material = materials[n]\n",
    "    world.setBlock(x+1, y, z+1, material)\n",
    "    time.sleep(1)"
   ]
  }
 ],
 "metadata": {
  "kernelspec": {
   "display_name": "Python 2",
   "language": "python",
   "name": "python2"
  },
  "language_info": {
   "codemirror_mode": {
    "name": "ipython",
    "version": 2
   },
   "file_extension": ".py",
   "mimetype": "text/x-python",
   "name": "python",
   "nbconvert_exporter": "python",
   "pygments_lexer": "ipython2",
   "version": "2.7.6"
  }
 },
 "nbformat": 4,
 "nbformat_minor": 0
}
