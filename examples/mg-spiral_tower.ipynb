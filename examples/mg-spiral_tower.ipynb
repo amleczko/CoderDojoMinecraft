{
 "cells": [
  {
   "cell_type": "code",
   "execution_count": null,
   "metadata": {
    "collapsed": false
   },
   "outputs": [],
   "source": [
    "import mcpi.minecraft as minecraft\n",
    "import mcpi.block as block\n",
    "\n",
    "world = minecraft.Minecraft.create()\n",
    "\n",
    "[x0,y0,z0] = world.player.getPos()\n",
    "\n",
    "for "
   ]
  }
 ],
 "metadata": {},
 "nbformat": 4,
 "nbformat_minor": 0
}