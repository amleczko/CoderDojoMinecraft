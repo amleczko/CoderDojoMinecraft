{
 "cells": [
  {
   "cell_type": "code",
   "execution_count": 1,
   "metadata": {
    "collapsed": false
   },
   "outputs": [
    {
     "name": "stdout",
     "output_type": "stream",
     "text": [
      "Clearing a 100 x 100 area around your position.\n"
     ]
    }
   ],
   "source": [
    "#!/usr/bin/python\n",
    "import mcpi.minecraft as minecraft\n",
    "import mcpi.block as block\n",
    "import sys\n",
    "\n",
    "\"\"\" clearZone clears an area and sets a stone floor\n",
    "    takes two x,z pairs clears everything above 0y and then sets\n",
    "    a stone floor at -1y\n",
    "    @author: goldfish\n",
    "\n",
    "\tModified by Jessica Zehavi for CoderDojo Twin Cities\n",
    "\thttp://www.coderdojotc.org \n",
    "\"\"\"\n",
    "\n",
    "def clearZone( size ):\n",
    "\tmc.player.setPos(0,0,0)\n",
    "\t[x,y,z] = [0,0,0];\n",
    "\tmc.setBlocks( x - size, 0, z - size, x + size, size, z + size, block.AIR )\n",
    "\tmc.setBlocks( x - size , -1, z - size, x + size, -1, z + size, block.STONE )\n",
    "\n",
    "if __name__ == \"__main__\":\n",
    "\tmc = minecraft.Minecraft.create( )\n",
    "\n",
    "\ttry:\n",
    "\t\tsize  =  100\n",
    "\t\tmc.postToChat( \"Clearing things up a bit...\" )\n",
    "\t\tprint \"Clearing a\", size, \"x\", size, \"area around your position.\"\n",
    "\t\tclearZone( int(size) )\n",
    "\texcept:\n",
    "\t\tprint \"Specify the size of zone you would like to clear.\"\n",
    "\t\tprint \"Syntax:\", sys.argv[0], \"<size in blocks>\""
   ]
  }
 ],
 "metadata": {
  "kernelspec": {
   "display_name": "Python 2",
   "language": "python",
   "name": "python2"
  },
  "language_info": {
   "codemirror_mode": {
    "name": "ipython",
    "version": 2
   },
   "file_extension": ".py",
   "mimetype": "text/x-python",
   "name": "python",
   "nbconvert_exporter": "python",
   "pygments_lexer": "ipython2",
   "version": "2.7.9"
  }
 },
 "nbformat": 4,
 "nbformat_minor": 0
}
