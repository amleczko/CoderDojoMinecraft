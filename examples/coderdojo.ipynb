{
 "cells": [
  {
   "cell_type": "code",
   "execution_count": 1,
   "metadata": {
    "collapsed": false
   },
   "outputs": [
    {
     "name": "stdout",
     "output_type": "stream",
     "text": [
      "C\n",
      "O\n",
      "D\n",
      "E\n",
      "R\n",
      "D\n",
      "O\n",
      "J\n",
      "O\n",
      " \n",
      "P\n",
      "O\n",
      "Z\n",
      "N\n",
      "A\n",
      "N\n"
     ]
    }
   ],
   "source": [
    "#! /usr/bin/python\n",
    "import mcpi.minecraft as minecraft\n",
    "import mcpi.block as block\n",
    "import minecraft_letters as letters\n",
    "\n",
    "# Connect to the Minecraft server\n",
    "world  =  minecraft.Minecraft.create()\n",
    "\n",
    "letters.write( world, \"CoderDojo Poznan\", block.TNT );"
   ]
  }
 ],
 "metadata": {
  "kernelspec": {
   "display_name": "Python 2",
   "language": "python",
   "name": "python2"
  },
  "language_info": {
   "codemirror_mode": {
    "name": "ipython",
    "version": 2
   },
   "file_extension": ".py",
   "mimetype": "text/x-python",
   "name": "python",
   "nbconvert_exporter": "python",
   "pygments_lexer": "ipython2",
   "version": "2.7.9"
  }
 },
 "nbformat": 4,
 "nbformat_minor": 0
}
