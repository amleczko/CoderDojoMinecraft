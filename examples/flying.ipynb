{
 "cells": [
  {
   "cell_type": "code",
   "execution_count": null,
   "metadata": {
    "collapsed": false
   },
   "outputs": [],
   "source": [
    "#!/usr/bin/python\n",
    "import mcpi.minecraft as minecraft\n",
    "import mcpi.block as block\n",
    "from math import *\n",
    "\n",
    "# Connect to the Minecraft server\n",
    "world  =  minecraft.Minecraft.create()\n",
    "\n",
    "# Get the player's current position and store the coordinates\n",
    "[x,y,z]  =  world.player.getPos()\n",
    "\n",
    "# Look up the block material for the coordinate directly underneath the player\n",
    "blockId  =  world.getBlock( x, ceil( y ) - 1, z )\n",
    "\n",
    "# If the player's y coordinate position is greater than 0, then they must be \n",
    "# flying or walking on stilts!  AIR has block ID 0 so if that's what is under\n",
    "# the player, they must be flying.\n",
    "flying  =  blockId == 0\n",
    "\n",
    "if flying:\n",
    "\tprint \"You are flying high!\"\n",
    "else:\n",
    "\tprint \"You are on the ground.\""
   ]
  }
 ],
 "metadata": {},
 "nbformat": 4,
 "nbformat_minor": 0
}