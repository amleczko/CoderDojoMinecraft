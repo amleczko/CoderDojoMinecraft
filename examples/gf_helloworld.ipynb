{
 "cells": [
  {
   "cell_type": "code",
   "execution_count": null,
   "metadata": {
    "collapsed": false
   },
   "outputs": [],
   "source": [
    "#! /usr/bin/python\n",
    "import mcpi.minecraft as minecraft\n",
    "\n",
    "\"\"\" hello world test app\n",
    "\n",
    "    @author: goldfish\"\"\"\n",
    "\n",
    "mc = minecraft.Minecraft.create()\n",
    "mc.postToChat(\"Hello, Minecraft!\")"
   ]
  }
 ],
 "metadata": {},
 "nbformat": 4,
 "nbformat_minor": 0
}