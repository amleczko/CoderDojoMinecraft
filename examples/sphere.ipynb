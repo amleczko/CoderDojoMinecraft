{
 "cells": [
  {
   "cell_type": "code",
   "execution_count": null,
   "metadata": {
    "collapsed": false
   },
   "outputs": [],
   "source": [
    "#!/usr/bin/python\n",
    "import sys\n",
    "sys.path.append( \"~/Desktop/CoderDojo\")\n",
    "import mcpi.minecraft as minecraft\n",
    "import mcpi.block as block\n",
    "\n",
    "# Connect to the Minecraft server\n",
    "world  =  minecraft.Minecraft.create()\n",
    "[x0,y0,z0] = world.player.getPos()\n",
    "y0=y0+60\n",
    "#y0=y0+r+r\n",
    "\n",
    "r=20\n",
    "material = block.GLOWING_OBSIDIAN\n",
    "for x in range(-r,r):\n",
    "  for y in range(-r,r):\n",
    "    for z in range(-r,r):\n",
    "      if x**2 + y**2 + z**2 < r**2:\n",
    "        if y % 2 == 0:\n",
    "          world.setBlock( x0+x, y0+y, z0+z, material );"
   ]
  }
 ],
 "metadata": {},
 "nbformat": 4,
 "nbformat_minor": 0
}