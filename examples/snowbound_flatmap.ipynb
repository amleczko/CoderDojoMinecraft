{
 "cells": [
  {
   "cell_type": "code",
   "execution_count": null,
   "metadata": {
    "collapsed": false
   },
   "outputs": [],
   "source": [
    "#!/usr/bin/env python\n",
    "\n",
    "\n",
    "# mcpipy.com retrieved from URL below, written by snowbound\n",
    "# http://www.minecraftforum.net/topic/1680160-simple-flatmap-script/\n",
    "\n",
    "\n",
    "import sys\n",
    "import mcpi.minecraft as minecraft\n",
    "import mcpi.block as block\n",
    "\n",
    "\n",
    "mc = minecraft.Minecraft.create()\n",
    "mc.setBlocks(-128,0,-128,128,64,128,0)\n",
    "if(len(sys.argv) > 1):\n",
    "        bid = int(sys.argv[1])\n",
    "else:\n",
    "        bid = block.SANDSTONE.id\n",
    "\n",
    "if bid < 0 or bid > 108:\n",
    "        bid = block.SANDSTONE.id\n",
    "\n",
    "mc.setBlocks(-128,0,-128,128,-64,128,bid)"
   ]
  }
 ],
 "metadata": {},
 "nbformat": 4,
 "nbformat_minor": 0
}