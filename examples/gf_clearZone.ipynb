{
 "cells": [
  {
   "cell_type": "code",
   "execution_count": null,
   "metadata": {
    "collapsed": false
   },
   "outputs": [],
   "source": [
    "#! /usr/bin/python\n",
    "import mcpi.minecraft as minecraft\n",
    "import mcpi.block as block\n",
    "\n",
    "\"\"\" clearZone clears an area and sets a stone floor\n",
    "    takes two x,z pairs clears everything above 0y and then sets\n",
    "    a stone floor at -1y\n",
    "    @author: goldfish\"\"\"\n",
    "\n",
    "def clearZone( alocx, alocz, blocx, blocz ):\n",
    "    mc.setBlocks( alocx, 0, alocz, blocx, 64, blocz, block.AIR )\n",
    "    mc.setBlocks( alocx, -1, alocz, blocx, -1, blocz, block.STONE )\n",
    "\n",
    "if __name__ == \"__main__\":\n",
    "    mc = minecraft.Minecraft.create()\n",
    "    clearZone( -20, -20, 20, 20 )"
   ]
  }
 ],
 "metadata": {},
 "nbformat": 4,
 "nbformat_minor": 0
}