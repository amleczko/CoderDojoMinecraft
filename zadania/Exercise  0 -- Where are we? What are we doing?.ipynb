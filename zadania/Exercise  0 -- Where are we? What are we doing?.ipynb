{
 "cells": [
  {
   "cell_type": "markdown",
   "metadata": {},
   "source": [
    "# Introduction to our environment\n",
    "\n",
    "This notebook document gives you an introduction to the environment we will use during today's session.\n",
    "\n",
    "\n",
    "## Where are we?\n",
    "\n",
    "As you are working in our lab environment, there are a couple of different computers involved. The diagram below shows the programs running on each computer, so you can understand what runs where:\n",
    "\n",
    "![The Lab Programming Environment](images/programming-environment.png)\n",
    "\n",
    "As you can see in the diagram above, you have your laptop itself, which is running the Minecraft game and a web browser.\n",
    "\n",
    "The Minecraft game on your laptop talks across the network to a computer named `python.coderdojotc.org`. On that computer, inside a container shown here as *Student Instance 1*, there is a program called the *Canary Server*. The Canary Server is an instance of the Minecraft game that hosts a multi-player server.\n",
    "\n",
    "Also on that server is a program called the *IPython Notebook Server*. The IPython Notebook Server acts as a web server, so you can connect to it with a web browser. It displays *notebooks*, which are contained in  files on the server.\n",
    "\n",
    "\n",
    "## What are we doing?\n",
    "\n",
    "In today's class, we will run Python programs inside the notebooks on the IPython Notebook Server. When you open a notebook and tell it to run using the *Cell* menu at the top of each page, the IPython Notebook Server will run the Python code it finds. When this code runs, it can talk across the local network to the Canary Server. This is how Python can make changes inside the Minecraft world. You can see the effects of these changes inside the Minecraft game on your laptop, which is also connected to the canary Server.\n",
    "\n",
    "\n",
    "## Next Steps\n",
    "\n",
    "Close this notebook with the *File --> Close and Halt* command. Open the next exercise, where you will run your first Python program."
   ]
  }
 ],
 "metadata": {
  "kernelspec": {
   "display_name": "Python 2",
   "language": "python",
   "name": "python2"
  },
  "language_info": {
   "codemirror_mode": {
    "name": "ipython",
    "version": 2
   },
   "file_extension": ".py",
   "mimetype": "text/x-python",
   "name": "python",
   "nbconvert_exporter": "python",
   "pygments_lexer": "ipython2",
   "version": "2.7.6"
  }
 },
 "nbformat": 4,
 "nbformat_minor": 0
}
