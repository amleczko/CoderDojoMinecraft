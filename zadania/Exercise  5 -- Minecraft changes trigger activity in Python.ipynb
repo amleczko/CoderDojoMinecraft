{
 "cells": [
  {
   "cell_type": "markdown",
   "metadata": {},
   "source": [
    "# Trigger code in Python from Minecraft"
   ]
  },
  {
   "cell_type": "markdown",
   "metadata": {},
   "source": [
    "To find out what is happening in the Minecraft world, Python can ask via the API. The `pollBlockHits()` method will return data about each block hit with a sword since the last time it was called. **Note: You must use a sword, and you must Right-Click. This is the only action detected by this function.**"
   ]
  },
  {
   "cell_type": "markdown",
   "metadata": {},
   "source": [
    "Like in other exercises, we need to bring in some libraries of code that enable Python to speak to Minecraft."
   ]
  },
  {
   "cell_type": "code",
   "execution_count": null,
   "metadata": {
    "collapsed": false
   },
   "outputs": [],
   "source": [
    "import mcpi.minecraft as minecraft\n",
    "import mcpi.block as block\n",
    "import time"
   ]
  },
  {
   "cell_type": "markdown",
   "metadata": {},
   "source": [
    "Connect to the Minecraft server, store the connection in a variable named `world`:"
   ]
  },
  {
   "cell_type": "code",
   "execution_count": null,
   "metadata": {
    "collapsed": false
   },
   "outputs": [],
   "source": [
    "world  =  minecraft.Minecraft.create()"
   ]
  },
  {
   "cell_type": "markdown",
   "metadata": {},
   "source": [
    "This script works best with blocks that change appearance when their block data changes. One good example is wool, so let's create a small field of wool for you to hit with the sword:"
   ]
  },
  {
   "cell_type": "code",
   "execution_count": null,
   "metadata": {
    "collapsed": false
   },
   "outputs": [],
   "source": [
    "[x,y,z] =  world.player.getPos()\n",
    "world.setBlocks(x,y-1,z,x+10,y-1,z+10, block.WOOL)"
   ]
  },
  {
   "cell_type": "markdown",
   "metadata": {},
   "source": [
    "Start looping forever. This is an example of a game loop, because it keeps on processsing until it is interrupted. If you want to stop the loop, press the \"stop\" button, or use the **Kernel -> Interrupt** option in the notebook menubar."
   ]
  },
  {
   "cell_type": "code",
   "execution_count": null,
   "metadata": {
    "collapsed": false
   },
   "outputs": [],
   "source": [
    "while True:\n",
    "    hits = world.events.pollBlockHits()\n",
    "    for hit in hits:\n",
    "        print \"Have hit {h.x},{h.y},{h.z}\".format(h=hit.pos)\n",
    "        block = world.getBlockWithData(hit.pos.x, hit.pos.y, hit.pos.z)\n",
    "        block.data = (block.data + 1) & 0xf ## The & 0xf keeps the block data value below 16 (0xf in hexadecimal)\n",
    "        world.setBlock(hit.pos.x, hit.pos.y, hit.pos.z, block.id, block.data)\n",
    "        world.postToChat(\"Block data is now \" + str(block.data))\n",
    "    time.sleep(1)"
   ]
  },
  {
   "cell_type": "markdown",
   "metadata": {},
   "source": [
    "The block of code above is more interesting with blocks that change based on their `data` value, such as wool, flowers, and wood. Wool changes color with the different data values."
   ]
  },
  {
   "cell_type": "markdown",
   "metadata": {},
   "source": [
    "## Advanced Exercises and Questions"
   ]
  },
  {
   "cell_type": "markdown",
   "metadata": {},
   "source": [
    "1. What other block types change their appearance when you hit them with a sword while this script is running?\n",
    "1. Can you draw a creeper with just this code and a sword?"
   ]
  }
 ],
 "metadata": {
  "kernelspec": {
   "display_name": "Python 2",
   "language": "python",
   "name": "python2"
  },
  "language_info": {
   "codemirror_mode": {
    "name": "ipython",
    "version": 2
   },
   "file_extension": ".py",
   "mimetype": "text/x-python",
   "name": "python",
   "nbconvert_exporter": "python",
   "pygments_lexer": "ipython2",
   "version": "2.7.6"
  }
 },
 "nbformat": 4,
 "nbformat_minor": 0
}
