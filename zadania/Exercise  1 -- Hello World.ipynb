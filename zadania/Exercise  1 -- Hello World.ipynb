{
 "cells": [
  {
   "cell_type": "markdown",
   "metadata": {},
   "source": [
    "# Hello World!"
   ]
  },
  {
   "cell_type": "markdown",
   "metadata": {},
   "source": [
    "The `Hello World` program is the first one you will write, in every environment, in any language!\n",
    "\n",
    "Click into the code cell below, then press the \"play\" button in the toolbar above. It will run the code."
   ]
  },
  {
   "cell_type": "code",
   "execution_count": 2,
   "metadata": {
    "collapsed": false
   },
   "outputs": [],
   "source": [
    "# The first step is to import the parts of code that let our Python \n",
    "# program talk to Minecraft:\n",
    "\n",
    "import mcpi.minecraft as minecraft\n",
    "import mcpi.block as block\n",
    "\n",
    "# Next, we create an object named `world`. This object is what we \n",
    "# use to talk to the Minecraft server.\n",
    "world  =  minecraft.Minecraft.create()\n",
    "\n",
    "# And then we post a message to chat\n",
    "world.postToChat(\"Hello Minecraft!\")"
   ]
  },
  {
   "cell_type": "markdown",
   "metadata": {},
   "source": [
    "Now, switch back to your Minecraft game and open the \"chat\" by pressing the \"T\" key. Check if you see the \"`Hello Minecraft!`\" message we sent from Python. If you don't, click into the code cell above and press the \"play\" button again. Sometimes the chat message won't appear if you weren't connected to the game when the script was run."
   ]
  },
  {
   "cell_type": "markdown",
   "metadata": {},
   "source": [
    "## Advanced Exercises and Questions"
   ]
  },
  {
   "cell_type": "markdown",
   "metadata": {},
   "source": [
    "1. Can you add your name to the \"Hello Minecraft\" message?\n",
    "1. Can you make it say several things, on different lines?"
   ]
  }
 ],
 "metadata": {
  "kernelspec": {
   "display_name": "Python 2",
   "language": "python",
   "name": "python2"
  },
  "language_info": {
   "codemirror_mode": {
    "name": "ipython",
    "version": 2
   },
   "file_extension": ".py",
   "mimetype": "text/x-python",
   "name": "python",
   "nbconvert_exporter": "python",
   "pygments_lexer": "ipython2",
   "version": "2.7.6"
  }
 },
 "nbformat": 4,
 "nbformat_minor": 0
}
